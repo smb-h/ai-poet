{
 "cells": [
  {
   "cell_type": "code",
   "execution_count": null,
   "metadata": {},
   "outputs": [],
   "source": [
    "import pandas as pd\n",
    "from hazm import (\n",
    "    Normalizer, word_tokenize, POSTagger,\n",
    "    Chunker, tree2brackets, Lemmatizer,\n",
    "    DependencyParser, Stemmer\n",
    ")\n",
    "import random\n",
    "import time"
   ]
  },
  {
   "cell_type": "code",
   "execution_count": null,
   "metadata": {},
   "outputs": [],
   "source": [
    "# read data - seprate by ;\n",
    "df = pd.read_csv('data/verses.csv', sep=';')\n",
    "print(df.shape)\n",
    "# remove rows with empty text\n",
    "df = df[df['text'].notnull()]\n",
    "print(df.shape)\n",
    "df.head(10)"
   ]
  },
  {
   "cell_type": "code",
   "execution_count": null,
   "metadata": {},
   "outputs": [],
   "source": [
    "# Initial normalizer, lemmatizer, stemmer\n",
    "normalizer = Normalizer()\n",
    "lemmatizer = Lemmatizer()\n",
    "stemmer = Stemmer()\n",
    "chunker = Chunker(model='resources/chunker.model')\n",
    "tagger = POSTagger(model='resources/postagger.model')\n",
    "parser = DependencyParser(tagger=tagger, lemmatizer=lemmatizer)"
   ]
  },
  {
   "cell_type": "code",
   "execution_count": null,
   "metadata": {},
   "outputs": [],
   "source": [
    "verses = df['text'].tolist()"
   ]
  },
  {
   "cell_type": "code",
   "execution_count": null,
   "metadata": {},
   "outputs": [],
   "source": [
    "# get structure of first 10 verses\n",
    "for verse in verses[:10]:\n",
    "    normalized_verse = normalizer.normalize(verse)\n",
    "    tokens = word_tokenize(normalized_verse)\n",
    "    tagged = tagger.tag(tokens)\n",
    "    # parsed = parser.parse(tagged)\n",
    "    print(\"================================\")\n",
    "    print(\"original_verse: \", verse)\n",
    "    print(\"normalized_verse: \", normalized_verse)\n",
    "    print(\"tokens: \", tokens)\n",
    "    print(\"tagged: \", tagged)\n",
    "    # print(\"parsed: \", parsed)\n",
    "    # print(tree2brackets(chunker.parse(tagged)))"
   ]
  },
  {
   "cell_type": "code",
   "execution_count": null,
   "metadata": {},
   "outputs": [],
   "source": [
    "def get_verse_pattern(verse):\n",
    "    \"\"\"\n",
    "    get structure of verse\n",
    "\n",
    "    :param verse: verse\n",
    "    :return: verse pattern\n",
    "    \"\"\"\n",
    "    normalized_verse = normalizer.normalize(verse)\n",
    "    tokens = word_tokenize(normalized_verse)\n",
    "    tagged = tagger.tag(tokens)\n",
    "    pattern = []\n",
    "    for token in tagged:\n",
    "        pattern.append(token[1])\n",
    "    return pattern"
   ]
  },
  {
   "cell_type": "code",
   "execution_count": null,
   "metadata": {},
   "outputs": [],
   "source": [
    "def get_categories(verses):\n",
    "    \"\"\"\n",
    "    get categories of verses\n",
    "\n",
    "    :param verses: list of verses\n",
    "    :return: dictionary of categorized tokens\n",
    "\n",
    "        {\n",
    "            'P': ['w1',]\n",
    "        }\n",
    "\n",
    "    \"\"\"\n",
    "    categories = {}\n",
    "    # categorize tokens\n",
    "    for verse in verses:\n",
    "        try:\n",
    "            normalized_verse = normalizer.normalize(verse)\n",
    "            tokens = word_tokenize(normalized_verse)\n",
    "            tagged = tagger.tag(tokens)\n",
    "            # add to categories\n",
    "            for token in tagged:\n",
    "                if token[1] not in categories:\n",
    "                    categories[token[1]] = [token[0]]\n",
    "                else:\n",
    "                    categories.get(token[1]).append(token[0])\n",
    "        except Exception as e:\n",
    "            print(\"verse: \", verse)\n",
    "            print(\"error: \", e)\n",
    "    return categories"
   ]
  },
  {
   "cell_type": "code",
   "execution_count": null,
   "metadata": {},
   "outputs": [],
   "source": [
    "def get_orders(df):\n",
    "    \"\"\"\n",
    "    get orders of verses\n",
    "\n",
    "    :param df: dataframe of verses\n",
    "    :return: 2D list of orders\n",
    "\n",
    "        [\n",
    "            ['P', 'ADJ', 'N', 'P',],\n",
    "        ]\n",
    "\n",
    "    \"\"\"\n",
    "    orders = []\n",
    "    # loop variables\n",
    "    poem_id = 0\n",
    "    order = []\n",
    "    for row in df.iterrows():\n",
    "        # get poem id\n",
    "        this_poem_id = row[1]['poemId']\n",
    "        # check if its first iteration\n",
    "        if poem_id == 0:\n",
    "            poem_id = this_poem_id\n",
    "            pattern = get_verse_pattern(row[1]['text'])\n",
    "            order.append(pattern)\n",
    "        # if poem id changed clear order list\n",
    "        elif poem_id != this_poem_id:\n",
    "            orders.append(order)\n",
    "            order = []\n",
    "            poem_id = this_poem_id\n",
    "            pattern = get_verse_pattern(row[1]['text'])\n",
    "            order.append(pattern)\n",
    "        # if poem id is same add to order list\n",
    "        else:\n",
    "            pattern = get_verse_pattern(row[1]['text'])\n",
    "            order.append(pattern)\n",
    "    return orders"
   ]
  },
  {
   "cell_type": "code",
   "execution_count": null,
   "metadata": {},
   "outputs": [],
   "source": [
    "start_time = time.time()\n",
    "categories = get_categories(verses)\n",
    "print(\"%s seconds took to get categories\" % (time.time() - start_time))"
   ]
  },
  {
   "cell_type": "code",
   "execution_count": null,
   "metadata": {},
   "outputs": [],
   "source": [
    "start_time = time.time()\n",
    "orders = get_orders(df)\n",
    "print(\"%s seconds took to get orders\" % (time.time() - start_time))"
   ]
  },
  {
   "cell_type": "code",
   "execution_count": null,
   "metadata": {},
   "outputs": [],
   "source": [
    "def gen_poem():\n",
    "    \"\"\"\n",
    "    generate poem\n",
    "\n",
    "    :return: poem\n",
    "    \"\"\"\n",
    "    poem = ''\n",
    "    # get random order\n",
    "    # order = random.choice(orders)\n",
    "    # print(order)\n",
    "    # for pattern in order:\n",
    "    #     verse = ''\n",
    "    #     for token in pattern:\n",
    "    #         # add random token from category\n",
    "    #         verse += random.choice(categories.get(token)) + ' '\n",
    "    #     poem += verse + '\\n'\n",
    "    return poem"
   ]
  },
  {
   "cell_type": "code",
   "execution_count": null,
   "metadata": {},
   "outputs": [],
   "source": [
    "tmp = gen_poem()\n",
    "print(tmp)"
   ]
  }
 ],
 "metadata": {
  "interpreter": {
   "hash": "50fc4a9833fff01f39a5af68154147935adff8dd6b3cc625641ca32fe6e833cf"
  },
  "kernelspec": {
   "display_name": "Python 3.10.1 64-bit ('poet': virtualenv)",
   "language": "python",
   "name": "python3"
  },
  "language_info": {
   "codemirror_mode": {
    "name": "ipython",
    "version": 3
   },
   "file_extension": ".py",
   "mimetype": "text/x-python",
   "name": "python",
   "nbconvert_exporter": "python",
   "pygments_lexer": "ipython3",
   "version": "3.10.1"
  },
  "orig_nbformat": 4
 },
 "nbformat": 4,
 "nbformat_minor": 2
}
