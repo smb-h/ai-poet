{
 "cells": [
  {
   "cell_type": "code",
   "execution_count": 1,
   "metadata": {},
   "outputs": [],
   "source": [
    "import pandas as pd\n",
    "from hazm import (\n",
    "    Normalizer,\n",
    "    word_tokenize,\n",
    "    POSTagger,\n",
    "    Chunker,\n",
    "    tree2brackets,\n",
    "    Lemmatizer,\n",
    "    DependencyParser,\n",
    "    Stemmer,\n",
    ")\n",
    "import random\n",
    "import time"
   ]
  },
  {
   "cell_type": "code",
   "execution_count": 2,
   "metadata": {},
   "outputs": [
    {
     "name": "stdout",
     "output_type": "stream",
     "text": [
      "(1384003, 5)\n",
      "(1381557, 5)\n"
     ]
    },
    {
     "data": {
      "text/html": [
       "<div>\n",
       "<style scoped>\n",
       "    .dataframe tbody tr th:only-of-type {\n",
       "        vertical-align: middle;\n",
       "    }\n",
       "\n",
       "    .dataframe tbody tr th {\n",
       "        vertical-align: top;\n",
       "    }\n",
       "\n",
       "    .dataframe thead th {\n",
       "        text-align: right;\n",
       "    }\n",
       "</style>\n",
       "<table border=\"1\" class=\"dataframe\">\n",
       "  <thead>\n",
       "    <tr style=\"text-align: right;\">\n",
       "      <th></th>\n",
       "      <th>id</th>\n",
       "      <th>poemId</th>\n",
       "      <th>order</th>\n",
       "      <th>position</th>\n",
       "      <th>text</th>\n",
       "    </tr>\n",
       "  </thead>\n",
       "  <tbody>\n",
       "    <tr>\n",
       "      <th>0</th>\n",
       "      <td>1</td>\n",
       "      <td>2051</td>\n",
       "      <td>1</td>\n",
       "      <td>0</td>\n",
       "      <td>جز نقش تو در نظر نیامد ما را</td>\n",
       "    </tr>\n",
       "    <tr>\n",
       "      <th>1</th>\n",
       "      <td>2</td>\n",
       "      <td>2051</td>\n",
       "      <td>2</td>\n",
       "      <td>1</td>\n",
       "      <td>جز کوی تو رهگذر نیامد ما را</td>\n",
       "    </tr>\n",
       "    <tr>\n",
       "      <th>2</th>\n",
       "      <td>3</td>\n",
       "      <td>2051</td>\n",
       "      <td>3</td>\n",
       "      <td>0</td>\n",
       "      <td>خواب ارچه خوش آمد همه را در عهدت</td>\n",
       "    </tr>\n",
       "    <tr>\n",
       "      <th>3</th>\n",
       "      <td>4</td>\n",
       "      <td>2051</td>\n",
       "      <td>4</td>\n",
       "      <td>1</td>\n",
       "      <td>حقا که به چشم در نیامد ما را</td>\n",
       "    </tr>\n",
       "    <tr>\n",
       "      <th>4</th>\n",
       "      <td>5</td>\n",
       "      <td>2052</td>\n",
       "      <td>1</td>\n",
       "      <td>0</td>\n",
       "      <td>بر گیر شراب طرب‌انگیز و بیا</td>\n",
       "    </tr>\n",
       "    <tr>\n",
       "      <th>5</th>\n",
       "      <td>6</td>\n",
       "      <td>2052</td>\n",
       "      <td>2</td>\n",
       "      <td>1</td>\n",
       "      <td>پنهان ز رقیب سفله بستیز و بیا</td>\n",
       "    </tr>\n",
       "    <tr>\n",
       "      <th>6</th>\n",
       "      <td>7</td>\n",
       "      <td>2052</td>\n",
       "      <td>3</td>\n",
       "      <td>0</td>\n",
       "      <td>مشنو سخن خصم که بنشین و مرو</td>\n",
       "    </tr>\n",
       "    <tr>\n",
       "      <th>7</th>\n",
       "      <td>8</td>\n",
       "      <td>2052</td>\n",
       "      <td>4</td>\n",
       "      <td>1</td>\n",
       "      <td>بشنو ز من این نکته که برخیز و بیا</td>\n",
       "    </tr>\n",
       "    <tr>\n",
       "      <th>8</th>\n",
       "      <td>9</td>\n",
       "      <td>2053</td>\n",
       "      <td>1</td>\n",
       "      <td>0</td>\n",
       "      <td>گفتم که لبت، گفت لبم آب حیات</td>\n",
       "    </tr>\n",
       "    <tr>\n",
       "      <th>9</th>\n",
       "      <td>10</td>\n",
       "      <td>2053</td>\n",
       "      <td>2</td>\n",
       "      <td>1</td>\n",
       "      <td>گفتم دهنت، گفت زهی حب نبات</td>\n",
       "    </tr>\n",
       "  </tbody>\n",
       "</table>\n",
       "</div>"
      ],
      "text/plain": [
       "   id  poemId  order  position                               text\n",
       "0   1    2051      1         0       جز نقش تو در نظر نیامد ما را\n",
       "1   2    2051      2         1        جز کوی تو رهگذر نیامد ما را\n",
       "2   3    2051      3         0   خواب ارچه خوش آمد همه را در عهدت\n",
       "3   4    2051      4         1       حقا که به چشم در نیامد ما را\n",
       "4   5    2052      1         0        بر گیر شراب طرب‌انگیز و بیا\n",
       "5   6    2052      2         1      پنهان ز رقیب سفله بستیز و بیا\n",
       "6   7    2052      3         0        مشنو سخن خصم که بنشین و مرو\n",
       "7   8    2052      4         1  بشنو ز من این نکته که برخیز و بیا\n",
       "8   9    2053      1         0       گفتم که لبت، گفت لبم آب حیات\n",
       "9  10    2053      2         1         گفتم دهنت، گفت زهی حب نبات"
      ]
     },
     "execution_count": 2,
     "metadata": {},
     "output_type": "execute_result"
    }
   ],
   "source": [
    "# read data - seprate by ;\n",
    "df = pd.read_csv(\"data/verses.csv\", sep=\";\")\n",
    "print(df.shape)\n",
    "# remove rows with empty text\n",
    "df = df[df[\"text\"].notnull()]\n",
    "print(df.shape)\n",
    "df.head(10)"
   ]
  },
  {
   "cell_type": "code",
   "execution_count": 3,
   "metadata": {},
   "outputs": [],
   "source": [
    "# Initial normalizer, lemmatizer, stemmer\n",
    "normalizer = Normalizer()\n",
    "lemmatizer = Lemmatizer()\n",
    "stemmer = Stemmer()\n",
    "chunker = Chunker(model=\"resources/chunker.model\")\n",
    "tagger = POSTagger(model=\"resources/postagger.model\")\n",
    "parser = DependencyParser(tagger=tagger, lemmatizer=lemmatizer)"
   ]
  },
  {
   "cell_type": "code",
   "execution_count": 4,
   "metadata": {},
   "outputs": [],
   "source": [
    "verses = df[\"text\"].tolist()"
   ]
  },
  {
   "cell_type": "code",
   "execution_count": 5,
   "metadata": {},
   "outputs": [
    {
     "name": "stdout",
     "output_type": "stream",
     "text": [
      "================================\n",
      "original_verse:  جز نقش تو در نظر نیامد ما را\n",
      "normalized_verse:  جز نقش تو در نظر نیامد ما را\n",
      "tokens:  ['جز', 'نقش', 'تو', 'در', 'نظر', 'نیامد', 'ما', 'را']\n",
      "tagged:  [('جز', 'P'), ('نقش', 'Ne'), ('تو', 'PRO'), ('در', 'P'), ('نظر', 'N'), ('نیامد', 'V'), ('ما', 'PRO'), ('را', 'POSTP')]\n",
      "================================\n",
      "original_verse:  جز کوی تو رهگذر نیامد ما را\n",
      "normalized_verse:  جز کوی تو رهگذر نیامد ما را\n",
      "tokens:  ['جز', 'کوی', 'تو', 'رهگذر', 'نیامد', 'ما', 'را']\n",
      "tagged:  [('جز', 'P'), ('کوی', 'Ne'), ('تو', 'PRO'), ('رهگذر', 'N'), ('نیامد', 'V'), ('ما', 'PRO'), ('را', 'POSTP')]\n",
      "================================\n",
      "original_verse:  خواب ارچه خوش آمد همه را در عهدت\n",
      "normalized_verse:  خواب ارچه خوش آمد همه را در عهدت\n",
      "tokens:  ['خواب', 'ارچه', 'خوش', 'آمد', 'همه', 'را', 'در', 'عهدت']\n",
      "tagged:  [('خواب', 'N'), ('ارچه', 'ADV'), ('خوش', 'AJ'), ('آمد', 'V'), ('همه', 'PRO'), ('را', 'POSTP'), ('در', 'P'), ('عهدت', 'N')]\n",
      "================================\n",
      "original_verse:  حقا که به چشم در نیامد ما را\n",
      "normalized_verse:  حقا که به چشم در نیامد ما را\n",
      "tokens:  ['حقا', 'که', 'به', 'چشم', 'در', 'نیامد', 'ما', 'را']\n",
      "tagged:  [('حقا', 'ADV'), ('که', 'CONJ'), ('به', 'P'), ('چشم', 'N'), ('در', 'P'), ('نیامد', 'V'), ('ما', 'PRO'), ('را', 'POSTP')]\n",
      "================================\n",
      "original_verse:  بر گیر شراب طرب‌انگیز و بیا\n",
      "normalized_verse:  بر گیر شراب طرب‌انگیز و بیا\n",
      "tokens:  ['بر', 'گیر', 'شراب', 'طرب\\u200cانگیز', 'و', 'بیا']\n",
      "tagged:  [('بر', 'P'), ('گیر', 'Ne'), ('شراب', 'Ne'), ('طرب\\u200cانگیز', 'AJ'), ('و', 'CONJ'), ('بیا', 'V')]\n",
      "================================\n",
      "original_verse:  پنهان ز رقیب سفله بستیز و بیا\n",
      "normalized_verse:  پنهان ز رقیب سفله بستیز و بیا\n",
      "tokens:  ['پنهان', 'ز', 'رقیب', 'سفله', 'بستیز', 'و', 'بیا']\n",
      "tagged:  [('پنهان', 'AJ'), ('ز', 'Pe'), ('رقیب', 'Ne'), ('سفله', 'Ne'), ('بستیز', 'AJ'), ('و', 'CONJ'), ('بیا', 'V')]\n",
      "================================\n",
      "original_verse:  مشنو سخن خصم که بنشین و مرو\n",
      "normalized_verse:  مشنو سخن خصم که بنشین و مرو\n",
      "tokens:  ['مشنو', 'سخن', 'خصم', 'که', 'بنشین', 'و', 'مرو']\n",
      "tagged:  [('مشنو', 'N'), ('سخن', 'Ne'), ('خصم', 'N'), ('که', 'CONJ'), ('بنشین', 'V'), ('و', 'CONJ'), ('مرو', 'N')]\n",
      "================================\n",
      "original_verse:  بشنو ز من این نکته که برخیز و بیا\n",
      "normalized_verse:  بشنو ز من این نکته که برخیز و بیا\n",
      "tokens:  ['بشنو', 'ز', 'من', 'این', 'نکته', 'که', 'برخیز', 'و', 'بیا']\n",
      "tagged:  [('بشنو', 'V'), ('ز', 'Pe'), ('من', 'PRO'), ('این', 'DET'), ('نکته', 'N'), ('که', 'CONJ'), ('برخیز', 'V'), ('و', 'CONJ'), ('بیا', 'V')]\n",
      "================================\n",
      "original_verse:  گفتم که لبت، گفت لبم آب حیات\n",
      "normalized_verse:  گفتم که لبت، گفت لبم آب حیات\n",
      "tokens:  ['گفتم', 'که', 'لبت', '،', 'گفت', 'لبم', 'آب', 'حیات']\n",
      "tagged:  [('گفتم', 'V'), ('که', 'CONJ'), ('لبت', 'N'), ('،', 'PUNC'), ('گفت', 'V'), ('لبم', 'N'), ('آب', 'Ne'), ('حیات', 'N')]\n",
      "================================\n",
      "original_verse:  گفتم دهنت، گفت زهی حب نبات\n",
      "normalized_verse:  گفتم دهنت، گفت زهی حب نبات\n",
      "tokens:  ['گفتم', 'دهنت', '،', 'گفت', 'زهی', 'حب', 'نبات']\n",
      "tagged:  [('گفتم', 'V'), ('دهنت', 'N'), ('،', 'PUNC'), ('گفت', 'V'), ('زهی', 'N'), ('حب', 'Ne'), ('نبات', 'N')]\n"
     ]
    }
   ],
   "source": [
    "# get structure of first 10 verses\n",
    "for verse in verses[:10]:\n",
    "    normalized_verse = normalizer.normalize(verse)\n",
    "    tokens = word_tokenize(normalized_verse)\n",
    "    tagged = tagger.tag(tokens)\n",
    "    # parsed = parser.parse(tagged)\n",
    "    print(\"================================\")\n",
    "    print(\"original_verse: \", verse)\n",
    "    print(\"normalized_verse: \", normalized_verse)\n",
    "    print(\"tokens: \", tokens)\n",
    "    print(\"tagged: \", tagged)\n",
    "    # print(\"parsed: \", parsed)\n",
    "    # print(tree2brackets(chunker.parse(tagged)))"
   ]
  },
  {
   "cell_type": "code",
   "execution_count": 6,
   "metadata": {},
   "outputs": [],
   "source": [
    "def get_verse_pattern(verse):\n",
    "    \"\"\"\n",
    "    get structure of verse\n",
    "\n",
    "    :param verse: verse\n",
    "    :return: verse pattern\n",
    "    \"\"\"\n",
    "    normalized_verse = normalizer.normalize(verse)\n",
    "    tokens = word_tokenize(normalized_verse)\n",
    "    tagged = tagger.tag(tokens)\n",
    "    pattern = []\n",
    "    for token in tagged:\n",
    "        pattern.append(token[1])\n",
    "    return pattern"
   ]
  },
  {
   "cell_type": "code",
   "execution_count": 7,
   "metadata": {},
   "outputs": [],
   "source": [
    "def get_categories(verses):\n",
    "    \"\"\"\n",
    "    get categories of verses\n",
    "\n",
    "    :param verses: list of verses\n",
    "    :return: dictionary of categorized tokens\n",
    "\n",
    "        {\n",
    "            'P': ['w1',]\n",
    "        }\n",
    "\n",
    "    \"\"\"\n",
    "    categories = {}\n",
    "    # categorize tokens\n",
    "    for verse in verses:\n",
    "        try:\n",
    "            normalized_verse = normalizer.normalize(verse)\n",
    "            tokens = word_tokenize(normalized_verse)\n",
    "            tagged = tagger.tag(tokens)\n",
    "            # add to categories\n",
    "            for token in tagged:\n",
    "                if token[1] not in categories:\n",
    "                    categories[token[1]] = [token[0]]\n",
    "                else:\n",
    "                    categories.get(token[1]).append(token[0])\n",
    "        except Exception as e:\n",
    "            print(\"verse: \", verse)\n",
    "            print(\"error: \", e)\n",
    "    return categories"
   ]
  },
  {
   "cell_type": "code",
   "execution_count": 8,
   "metadata": {},
   "outputs": [],
   "source": [
    "def get_orders(df):\n",
    "    \"\"\"\n",
    "    get orders of verses\n",
    "\n",
    "    :param df: dataframe of verses\n",
    "    :return: 2D list of orders\n",
    "\n",
    "        [\n",
    "            ['P', 'ADJ', 'N', 'P',],\n",
    "        ]\n",
    "\n",
    "    \"\"\"\n",
    "    orders = []\n",
    "    # loop variables\n",
    "    poem_id = 0\n",
    "    order = []\n",
    "    for row in df.iterrows():\n",
    "        # get poem id\n",
    "        this_poem_id = row[1][\"poemId\"]\n",
    "        # check if its first iteration\n",
    "        if poem_id == 0:\n",
    "            poem_id = this_poem_id\n",
    "            pattern = get_verse_pattern(row[1][\"text\"])\n",
    "            order.append(pattern)\n",
    "        # if poem id changed clear order list\n",
    "        elif poem_id != this_poem_id:\n",
    "            orders.append(order)\n",
    "            order = []\n",
    "            poem_id = this_poem_id\n",
    "            pattern = get_verse_pattern(row[1][\"text\"])\n",
    "            order.append(pattern)\n",
    "        # if poem id is same add to order list\n",
    "        else:\n",
    "            pattern = get_verse_pattern(row[1][\"text\"])\n",
    "            order.append(pattern)\n",
    "    return orders"
   ]
  },
  {
   "cell_type": "code",
   "execution_count": 9,
   "metadata": {},
   "outputs": [
    {
     "name": "stdout",
     "output_type": "stream",
     "text": [
      "203.14691710472107 seconds took to get categories\n"
     ]
    }
   ],
   "source": [
    "start_time = time.time()\n",
    "categories = get_categories(verses)\n",
    "print(\"%s seconds took to get categories\" % (time.time() - start_time))"
   ]
  },
  {
   "cell_type": "code",
   "execution_count": 10,
   "metadata": {},
   "outputs": [
    {
     "name": "stdout",
     "output_type": "stream",
     "text": [
      "295.80238103866577 seconds took to get orders\n"
     ]
    }
   ],
   "source": [
    "start_time = time.time()\n",
    "orders = get_orders(df)\n",
    "print(\"%s seconds took to get orders\" % (time.time() - start_time))"
   ]
  },
  {
   "cell_type": "code",
   "execution_count": 11,
   "metadata": {},
   "outputs": [],
   "source": [
    "def gen_poem():\n",
    "    \"\"\"\n",
    "    generate poem\n",
    "\n",
    "    :return: poem\n",
    "    \"\"\"\n",
    "    poem = \"\"\n",
    "    # get random order\n",
    "    order = random.choice(orders)\n",
    "    for pattern in order:\n",
    "        verse = \"\"\n",
    "        for token in pattern:\n",
    "            # add random token from category\n",
    "            verse += random.choice(categories.get(token)) + \" \"\n",
    "        poem += verse + \"\\n\"\n",
    "    return poem"
   ]
  },
  {
   "cell_type": "code",
   "execution_count": 267,
   "metadata": {},
   "outputs": [
    {
     "name": "stdout",
     "output_type": "stream",
     "text": [
      "ای زرورق سرشت که افق در تو \n",
      "مگر طوق که سگ بر تو \n",
      "شنید و کبروی واصل تا خود \n",
      "صد چنان ازل هستی کوی از من \n",
      "\n"
     ]
    }
   ],
   "source": [
    "tmp = gen_poem()\n",
    "print(tmp)"
   ]
  }
 ],
 "metadata": {
  "interpreter": {
   "hash": "50fc4a9833fff01f39a5af68154147935adff8dd6b3cc625641ca32fe6e833cf"
  },
  "kernelspec": {
   "display_name": "Python 3.10.1 64-bit ('poet': virtualenv)",
   "language": "python",
   "name": "python3"
  },
  "language_info": {
   "codemirror_mode": {
    "name": "ipython",
    "version": 3
   },
   "file_extension": ".py",
   "mimetype": "text/x-python",
   "name": "python",
   "nbconvert_exporter": "python",
   "pygments_lexer": "ipython3",
   "version": "3.10.1"
  },
  "orig_nbformat": 4
 },
 "nbformat": 4,
 "nbformat_minor": 2
}
